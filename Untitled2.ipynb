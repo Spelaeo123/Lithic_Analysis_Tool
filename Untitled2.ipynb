{
 "cells": [
  {
   "cell_type": "code",
   "execution_count": 1,
   "id": "7ee3b084-fbad-48f6-bcd2-36c5047fc5ec",
   "metadata": {},
   "outputs": [
    {
     "name": "stdout",
     "output_type": "stream",
     "text": [
      "None None\n"
     ]
    }
   ],
   "source": [
    "import PySimpleGUI as sg\n",
    "\n",
    "sg.theme('SystemDefaultForReal')\n",
    "\n",
    "col1 = [[sg.Text('Vertical')],\n",
    "        [sg.Radio('A', 'group 1', key='VA', enable_events=True)],\n",
    "        [sg.Radio('B', 'group 1', key='VB', enable_events=True)]\n",
    "        ]\n",
    "\n",
    "col2 = [[sg.Text('Horizontal'),\n",
    "         sg.Radio('A', 'group 2', key='HA', enable_events=True),\n",
    "         sg.Radio('B', 'group 2', key='HB' , enable_events=True)\n",
    "         ]]\n",
    "\n",
    "layout = [[sg.Column(col1), sg.VSeparator(), sg.Column(col2)]]\n",
    "\n",
    "window =sg.Window('Columns', layout, resizable=True, finalize=True)\n",
    "while True:  # The Event Loop\n",
    "    event, values = window.read()\n",
    "    print(event, values)\n",
    "    if event == sg.WIN_CLOSED:\n",
    "        break\n",
    "\n",
    "window.close()"
   ]
  },
  {
   "cell_type": "code",
   "execution_count": null,
   "id": "930c9606-9b22-4783-ac12-c208faf5d916",
   "metadata": {},
   "outputs": [],
   "source": []
  }
 ],
 "metadata": {
  "kernelspec": {
   "display_name": "Python 3 (ipykernel)",
   "language": "python",
   "name": "python3"
  },
  "language_info": {
   "codemirror_mode": {
    "name": "ipython",
    "version": 3
   },
   "file_extension": ".py",
   "mimetype": "text/x-python",
   "name": "python",
   "nbconvert_exporter": "python",
   "pygments_lexer": "ipython3",
   "version": "3.7.4"
  }
 },
 "nbformat": 4,
 "nbformat_minor": 5
}
