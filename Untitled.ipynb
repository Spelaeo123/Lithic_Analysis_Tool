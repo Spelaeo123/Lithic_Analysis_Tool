{
 "cells": [
  {
   "cell_type": "code",
   "execution_count": 2,
   "metadata": {},
   "outputs": [
    {
     "name": "stdout",
     "output_type": "stream",
     "text": [
      "Chinese\n",
      "Japanese\n"
     ]
    }
   ],
   "source": [
    "import PySimpleGUI as sg\n",
    "\n",
    "lst = ('English', 'Chinese', 'Japanese', 'Russian')\n",
    "lst2 = ('English', 'Chinese', 'Japanese', 'Russian')\n",
    "\n",
    "layout = [\n",
    "    [sg.Radio(text, \"Radio\", enable_events=True, key=f\"Radio {i}\")\n",
    "        for i, text in enumerate(lst)],\n",
    "    [sg.Radio(text, \"Radio1\", enable_events=True, key=f\"Radio1 {i}\")\n",
    "        for i, text in enumerate(lst2)],\n",
    "    [sg.Push(), sg.Button(\"Go\"), sg.Button('Exit')],\n",
    "]\n",
    "\n",
    "window = sg.Window(\"test\", layout, finalize=True)\n",
    "\n",
    "while True:\n",
    "\n",
    "    event, values = window.read()\n",
    "\n",
    "    if event in (sg.WINDOW_CLOSED, 'Exit'):\n",
    "        break\n",
    "    elif event.startswith(\"Radio\"):\n",
    "        text = window[event].Text\n",
    "        print(text)\n",
    "\n",
    "window.close()"
   ]
  },
  {
   "cell_type": "code",
   "execution_count": null,
   "metadata": {},
   "outputs": [],
   "source": []
  }
 ],
 "metadata": {
  "kernelspec": {
   "display_name": "Python 3",
   "language": "python",
   "name": "python3"
  },
  "language_info": {
   "codemirror_mode": {
    "name": "ipython",
    "version": 3
   },
   "file_extension": ".py",
   "mimetype": "text/x-python",
   "name": "python",
   "nbconvert_exporter": "python",
   "pygments_lexer": "ipython3",
   "version": "3.7.4"
  }
 },
 "nbformat": 4,
 "nbformat_minor": 4
}
