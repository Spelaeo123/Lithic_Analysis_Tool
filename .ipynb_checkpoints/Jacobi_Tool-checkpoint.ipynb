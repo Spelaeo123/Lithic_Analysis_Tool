{
 "cells": [
  {
   "cell_type": "markdown",
   "metadata": {
    "tags": []
   },
   "source": [
    "# Jacobi Lithic Analysis Data Entry Tool"
   ]
  },
  {
   "cell_type": "markdown",
   "metadata": {},
   "source": [
    "## Import libraries and modules"
   ]
  },
  {
   "cell_type": "code",
   "execution_count": 1,
   "metadata": {},
   "outputs": [],
   "source": [
    "import PySimpleGUI as sg\n",
    "import pandas as pd\n",
    "from openpyxl import load_workbook"
   ]
  },
  {
   "cell_type": "markdown",
   "metadata": {},
   "source": [
    "## Import input/output file"
   ]
  },
  {
   "cell_type": "code",
   "execution_count": 2,
   "metadata": {},
   "outputs": [],
   "source": [
    "#EXCELFILE = load_workbook('data_entry.xlsx')\n",
    "#df = df.active # Get active sheet\n",
    "EXCELFILE = (r'C:\\Users\\tom\\Documents\\GitHub\\Lithic_Analysis_Tool\\data_entry.xlsx')\n",
    "df = pd.read_excel(EXCELFILE, engine=\"openpyxl\")"
   ]
  },
  {
   "cell_type": "markdown",
   "metadata": {},
   "source": [
    "## Columns in excel file"
   ]
  },
  {
   "cell_type": "code",
   "execution_count": 3,
   "metadata": {},
   "outputs": [],
   "source": [
    "cols = ['SF Number', 'Site', 'Category', 'Post-deposition damage', 'Cortication type', 'Butt type', 'Cortex type', 'Cortex thickness', 'Other details']"
   ]
  },
  {
   "cell_type": "markdown",
   "metadata": {},
   "source": [
    "## Attribute Lists"
   ]
  },
  {
   "cell_type": "code",
   "execution_count": 4,
   "metadata": {},
   "outputs": [],
   "source": [
    "lst = ('Site 1','Site 2','Site 3','Site 4','Site 5','Site 6','Site 7','Other')\n",
    "CatLst = ('1. Flake', '2. Blade', '3. Bladelet','4. Blake-like flake (DO NOT USE)','5. Irregular Waste','6. Chip','7. Microburin','8. Burin spall','9. Rejuvenation flake','10. Core tablet','11. Rejuvenation flake other','12. Levallois flake','13. Janus flake (= thinning)','14. Axe working flake','15. Flake from ground implement','16. Single platform blade core','17. Opposed platform blade core','18. Other Blade core','19. Tested nodule/ bashed lump','20. Single platform flake core','21. Multiplatform flake core','22. Keeled non-discoidal flake core','23. Levallois/ other discoidal flake core','24. Unclassifiable/ fragmentary core','25. Microlith','26. Petit tranchet arrowhead','27. Leaf arrowhead','28. Chisel arrowhead','29. Oblique arrowhead','30. Barbed and tanged arrowhead','31. Triangular arrowhead','32. Hollow-based arrowhead','33. Laurel leaf','34. Unfinished arrowhead/blank','35. Fragmentary/unclass/other arrowhead','36. End scraper','37. Side scraper','38. End and side scraper','39. Disc scraper','40. Thumbnail scraper','41. Scraper on a non-flake blank','42. Other scraper','43. Awl','44. Piercer','45. Spurred piece','46. Other borer','47. Serrated flake','48. Saw','49. Denticulate','50. Notch','51. Backed knife','52. Scale flaked knife','53. Plano-convex knife','54. Other knife','55. Flake retouched','56. Single-piece sickle','57. Fabricator','58. Axe','59. Other heavy implement','60. Misc retouch','61. Other retouch','62. Burnt unworked','63. Hammerstone','64. Natural','65. Core on a flake','66. Gun flint','67. Axe sharpening flake','68. Sieved chips 10-4mm','69. Sieved chips 4-2mm','70. Sieved chips','71. Bruised blade/flake','72. Burin','73. Blade crested','74. Blade retouched','75. End truncation straight','76. End truncation oblique','77. Backed bladelet','78. Bipolar core')\n",
    "lst2 = ('1. Fresh','2. Slight post depositional damage', '3. Moderate post depositional damage','4. Heavy post depositional damage','5. Plough damaged','6. Rolled','7. Glossed','8. Modern damage')\n",
    "lst3 = ('1. No cortication','2. Light cortication','3. Moderate cortication','4. Heavy cortication','5. Very heavy cortication','6. Iron stained')\n",
    "lst4 = ('1. Cortical (cortex)','2. Plain (unaltered inner flint)','3. Dihedral (2 scars)','4. Faceted (more than 2 scars)','5. Linear (very narrow and usually quite long)','6. Shattered','7. Thermal (old recorticated or patinated surface)','8. Punctiform','9. Modified (retouched or otherwise altered)','10. Indeterminate (if you can’t decide or it doesn’t fit any of the above)')\n",
    "lst5 = ('1. Chalk – thick, creamy white, chalky', '2. Weathered Chalk – like above but clearly worn and probably thin or moderate in thickness','3. Weathered – Similar to WC above, will be rough to the touch but clearly ground down.','4. Rolled – typical beach pebble/ river gravel flint, smooth','5. Thermal – re-corticated old surface, often will be in','6. Indeterminate','7. Banded -eg. Bullhead flint')\n",
    "lst6 = ('1. Thin – up to 2mm thick (judge don’t measure)', '2. Moderate 2-4mm thickness', '3. Thick 4-10mm', '4. Very thick, greater than 10mm')\n"
   ]
  },
  {
   "cell_type": "markdown",
   "metadata": {},
   "source": [
    "## Column sizes"
   ]
  },
  {
   "cell_type": "code",
   "execution_count": 5,
   "metadata": {},
   "outputs": [],
   "source": [
    "colsize = [20,60]"
   ]
  },
  {
   "cell_type": "markdown",
   "metadata": {},
   "source": [
    "## Font sizes"
   ]
  },
  {
   "cell_type": "code",
   "execution_count": 6,
   "metadata": {},
   "outputs": [],
   "source": [
    "hfont = (\"Calibri\", 12)\n",
    "font = (\"Calibri\", 10)"
   ]
  },
  {
   "cell_type": "markdown",
   "metadata": {},
   "source": [
    "## Columns layout"
   ]
  },
  {
   "cell_type": "code",
   "execution_count": 7,
   "metadata": {},
   "outputs": [],
   "source": [
    "#Select Post-deposition damage\n",
    "col1 = [[sg.Text('Post-deposition damage:', font=hfont)],\n",
    "        [sg.Radio(text, \"Radio2\", enable_events=True, key=f\"Radio2 {i}\", size=15, font=font, pad=0) \n",
    "         for i, text in enumerate(lst2)]\n",
    "       ]\n",
    "\n",
    "#Select Cortication\n",
    "col2 = [[sg.Text('Cortication type:', font=hfont)],\n",
    "        [sg.Radio(text, \"Radio3\", enable_events=True, key=f\"Radio3 {i}\", size=15, font=font, pad=0) \n",
    "         for i, text in enumerate(lst3)]\n",
    "       ]\n",
    "\n",
    "#Select Butt type\n",
    "col3 = [[sg.Text('Butt type:', font=hfont)],\n",
    "        [sg.Radio(text, \"Radio4\", enable_events=True, key=f\"Radio4 {i}\", size=15, font=font, pad=0) \n",
    "         for i, text in enumerate(lst4)]\n",
    "       ]\n",
    "\n",
    "#Select Cortex type \n",
    "col4 = [[sg.Text('Cortex type:', font=hfont)], \n",
    "        [sg.Radio(text, \"Radio5\", enable_events=True, key=f\"Radio5 {i}\", size=15, font=font, pad=0) \n",
    "         for i, text in enumerate(lst5)]\n",
    "       ]\n",
    "\n",
    "#Select Cortex thickness\n",
    "col5 = [[sg.Text('Cortex thickness:', font=hfont)], \n",
    "        [sg.Radio(text, \"Radio6\", enable_events=True, key=f\"Radio6 {i}\", size=15, font=font, pad=0) \n",
    "         for i, text in enumerate(lst6)]\n",
    "       ]"
   ]
  },
  {
   "cell_type": "markdown",
   "metadata": {},
   "source": [
    "## Layout and window"
   ]
  },
  {
   "cell_type": "code",
   "execution_count": 8,
   "metadata": {},
   "outputs": [
    {
     "name": "stdout",
     "output_type": "stream",
     "text": [
      "[[[<PySimpleGUI.PySimpleGUI.Text object at 0x00000227A479FAC8>], [<PySimpleGUI.PySimpleGUI.Text object at 0x00000227A479FBC8>, <PySimpleGUI.PySimpleGUI.Input object at 0x00000227A479FC88>], [<PySimpleGUI.PySimpleGUI.Text object at 0x00000227A479FCC8>], [<PySimpleGUI.PySimpleGUI.Radio object at 0x00000227A479FD48>, <PySimpleGUI.PySimpleGUI.Radio object at 0x00000227A479FDC8>, <PySimpleGUI.PySimpleGUI.Radio object at 0x00000227A479FE88>, <PySimpleGUI.PySimpleGUI.Radio object at 0x00000227A479FF48>, <PySimpleGUI.PySimpleGUI.Radio object at 0x00000227A479D048>, <PySimpleGUI.PySimpleGUI.Radio object at 0x00000227A479D188>, <PySimpleGUI.PySimpleGUI.Radio object at 0x00000227A479D208>, <PySimpleGUI.PySimpleGUI.Radio object at 0x00000227A479D2C8>], [<PySimpleGUI.PySimpleGUI.Text object at 0x00000227A479FD08>, <PySimpleGUI.PySimpleGUI.Combo object at 0x00000227A479D388>], [<PySimpleGUI.PySimpleGUI.Column object at 0x00000227A472E548>], [<PySimpleGUI.PySimpleGUI.Column object at 0x00000227A479D4C8>], [<PySimpleGUI.PySimpleGUI.Column object at 0x00000227A479D648>], [<PySimpleGUI.PySimpleGUI.Column object at 0x00000227A479D808>], [<PySimpleGUI.PySimpleGUI.Column object at 0x00000227A479D948>], [<PySimpleGUI.PySimpleGUI.Text object at 0x00000227A479DB48>, <PySimpleGUI.PySimpleGUI.Input object at 0x00000227A479DB88>], [<PySimpleGUI.PySimpleGUI.Text object at 0x00000227A479DC08>], [<PySimpleGUI.PySimpleGUI.Button object at 0x00000227A479DC88>, <PySimpleGUI.PySimpleGUI.Button object at 0x00000227A3CA3888>, <PySimpleGUI.PySimpleGUI.Button object at 0x00000227A4767B08>]]]\n"
     ]
    }
   ],
   "source": [
    "layout = [[\n",
    "    #Browse to file  \n",
    "#    [sg.Text('Select output file:', font=hfont), sg.Input(sg.user_settings_get_entry('filename'), key='-IN-'), sg.FileBrowse(),sg.B('OK')], \n",
    "    \n",
    "    #Title\n",
    "    [sg.Text('Please fill the following fields:', font=hfont)],\n",
    "    #Type SF Number\n",
    "    [sg.Text('SF Number', size=(15,1), font=hfont), sg.InputText(key='SF_Number')],\n",
    "    #Select Site\n",
    "    [sg.Text('Site:', font=hfont)],\n",
    "    [sg.Radio(text, \"Radio\", enable_events=True, key=f\"Radio1 {i}\", font=font) \n",
    "        for i, text in enumerate(lst)],\n",
    "    #Select Category\n",
    "    [sg.Text('Category', size=(15,1), font=hfont), sg.Combo(['1. Flake', '2. Blade', '3. Bladelet','4. Blake-like flake (DO NOT USE)','5. Irregular Waste','6. Chip','7. Microburin','8. Burin spall','9. Rejuvenation flake','10. Core tablet','11. Rejuvenation flake other','12. Levallois flake','13. Janus flake (= thinning)','14. Axe working flake','15. Flake from ground implement','16. Single platform blade core','17. Opposed platform blade core','18. Other Blade core','19. Tested nodule/ bashed lump','20. Single platform flake core','21. Multiplatform flake core','22. Keeled non-discoidal flake core','23. Levallois/ other discoidal flake core','24. Unclassifiable/ fragmentary core','25. Microlith','26. Petit tranchet arrowhead','27. Leaf arrowhead','28. Chisel arrowhead','29. Oblique arrowhead','30. Barbed and tanged arrowhead','31. Triangular arrowhead','32. Hollow-based arrowhead','33. Laurel leaf','34. Unfinished arrowhead/blank','35. Fragmentary/unclass/other arrowhead','36. End scraper','37. Side scraper','38. End and side scraper','39. Disc scraper','40. Thumbnail scraper','41. Scraper on a non-flake blank','42. Other scraper','43. Awl','44. Piercer','45. Spurred piece','46. Other borer','47. Serrated flake','48. Saw','49. Denticulate','50. Notch','51. Backed knife','52. Scale flaked knife','53. Plano-convex knife','54. Other knife','55. Flake retouched','56. Single-piece sickle','57. Fabricator','58. Axe','59. Other heavy implement','60. Misc retouch','61. Other retouch','62. Burnt unworked','63. Hammerstone','64. Natural','65. Core on a flake','66. Gun flint','67. Axe sharpening flake','68. Sieved chips 10-4mm','69. Sieved chips 4-2mm','70. Sieved chips','71. Bruised blade/flake','72. Burin','73. Blade crested','74. Blade retouched','75. End truncation straight','76. End truncation oblique','77. Backed bladelet','78. Bipolar core'], key='Category')],   \n",
    "    [sg.Column(col1)],\n",
    "    [sg.Column(col2)],\n",
    "    [sg.Column(col3)],\n",
    "    [sg.Column(col4)],\n",
    "    [sg.Column(col5)], \n",
    "    [sg.Text('Other comments:', font=hfont),sg.Input('', key='Other Details')],\n",
    "    [sg.Push()], \n",
    "    [sg.Button(\"Submit\"), sg.Button(\"Clear\"), sg.Button('Exit')],\n",
    "]]\n",
    "\n",
    "window = sg.Window(\"Jacobi: Lithic Analyis Data Entry Tool v0.5\", layout, resizable=True, element_justification='l', finalize=True)\n",
    "\n",
    "print(layout)"
   ]
  },
  {
   "cell_type": "markdown",
   "metadata": {},
   "source": [
    "## clear input function"
   ]
  },
  {
   "cell_type": "code",
   "execution_count": 9,
   "metadata": {},
   "outputs": [],
   "source": [
    "def clear_input():\n",
    "    for key in values:\n",
    "        window[key]('')\n",
    "    return None"
   ]
  },
  {
   "cell_type": "markdown",
   "metadata": {},
   "source": [
    "## While statement"
   ]
  },
  {
   "cell_type": "code",
   "execution_count": 10,
   "metadata": {},
   "outputs": [
    {
     "name": "stdout",
     "output_type": "stream",
     "text": [
      "['2035', 'Site 2', '3. Bladelet', '1. Fresh', '2. Light cortication', '2. Plain (unaltered inner flint)', '3. Weathered – Similar to WC above, will be rough to the touch but clearly ground down.', '2. Moderate 2-4mm thickness', 'rthsghsh']\n",
      "  SF Number    Site     Category Post-deposition damage      Cortication type  \\\n",
      "0      2035  Site 2  3. Bladelet               1. Fresh  2. Light cortication   \n",
      "\n",
      "                          Butt type  \\\n",
      "0  2. Plain (unaltered inner flint)   \n",
      "\n",
      "                                         Cortex type  \\\n",
      "0  3. Weathered – Similar to WC above, will be ro...   \n",
      "\n",
      "              Cortex thickness Other details  \n",
      "0  2. Moderate 2-4mm thickness      rthsghsh  \n",
      "   SF Number    Site       Category Post-deposition damage  \\\n",
      "0     2053.0  Site 2    3. Bladelet               1. Fresh   \n",
      "1     1066.0  Site 2  7. Microburin      5. Plough damaged   \n",
      "2     1017.0  Site 1       1. Flake               1. Fresh   \n",
      "3     1018.0  Site 1       2. Blade               1. Fresh   \n",
      "4     1019.0  Site 1       2. Blade               1. Fresh   \n",
      "5     1020.0  Site 1       2. Blade               1. Fresh   \n",
      "6     2021.0  Site 1       1. Flake               1. Fresh   \n",
      "7     2022.0  Site 1       1. Flake               1. Fresh   \n",
      "8     2035.0  Site 1       2. Blade               1. Fresh   \n",
      "9        NaN  Site 1            NaN               1. Fresh   \n",
      "10    2038.0  Site 1       2. Blade               1. Fresh   \n",
      "11       NaN  Site 2            NaN               1. Fresh   \n",
      "12   45345.0  Site 2       2. Blade               1. Fresh   \n",
      "13      2035  Site 2    3. Bladelet               1. Fresh   \n",
      "\n",
      "        Cortication type                                          Butt type  \\\n",
      "0   2. Light cortication  10. Indeterminate (if you can’t decide or it d...   \n",
      "1      1. No cortication  10. Indeterminate (if you can’t decide or it d...   \n",
      "2   2. Light cortication                              3. Dihedral (2 scars)   \n",
      "3   2. Light cortication                              3. Dihedral (2 scars)   \n",
      "4   2. Light cortication                              3. Dihedral (2 scars)   \n",
      "5   2. Light cortication                              3. Dihedral (2 scars)   \n",
      "6   2. Light cortication                              3. Dihedral (2 scars)   \n",
      "7   2. Light cortication                              3. Dihedral (2 scars)   \n",
      "8      1. No cortication                               1. Cortical (cortex)   \n",
      "9      1. No cortication                               1. Cortical (cortex)   \n",
      "10     1. No cortication                               1. Cortical (cortex)   \n",
      "11     1. No cortication                               1. Cortical (cortex)   \n",
      "12     1. No cortication                               1. Cortical (cortex)   \n",
      "13  2. Light cortication                   2. Plain (unaltered inner flint)   \n",
      "\n",
      "                                          Cortex type  \\\n",
      "0                                    6. Indeterminate   \n",
      "1                                    6. Indeterminate   \n",
      "2   4. Rolled – typical beach pebble/ river gravel...   \n",
      "3   4. Rolled – typical beach pebble/ river gravel...   \n",
      "4   4. Rolled – typical beach pebble/ river gravel...   \n",
      "5   4. Rolled – typical beach pebble/ river gravel...   \n",
      "6   4. Rolled – typical beach pebble/ river gravel...   \n",
      "7   4. Rolled – typical beach pebble/ river gravel...   \n",
      "8              1. Chalk – thick, creamy white, chalky   \n",
      "9              1. Chalk – thick, creamy white, chalky   \n",
      "10             1. Chalk – thick, creamy white, chalky   \n",
      "11             1. Chalk – thick, creamy white, chalky   \n",
      "12             1. Chalk – thick, creamy white, chalky   \n",
      "13  3. Weathered – Similar to WC above, will be ro...   \n",
      "\n",
      "                                   Cortex thickness Other details  \n",
      "0   1. Thin – up to 2mm thick (judge don’t measure)            na  \n",
      "1   1. Thin – up to 2mm thick (judge don’t measure)           NaN  \n",
      "2                  4. Very thick, greater than 10mm          test  \n",
      "3                  4. Very thick, greater than 10mm         test2  \n",
      "4                  4. Very thick, greater than 10mm         test3  \n",
      "5                  4. Very thick, greater than 10mm         test4  \n",
      "6                  4. Very thick, greater than 10mm         drhgh  \n",
      "7                  4. Very thick, greater than 10mm           NaN  \n",
      "8   1. Thin – up to 2mm thick (judge don’t measure)           now  \n",
      "9   1. Thin – up to 2mm thick (judge don’t measure)           NaN  \n",
      "10  1. Thin – up to 2mm thick (judge don’t measure)           NaN  \n",
      "11  1. Thin – up to 2mm thick (judge don’t measure)   93458623495  \n",
      "12  1. Thin – up to 2mm thick (judge don’t measure)       3453453  \n",
      "13                      2. Moderate 2-4mm thickness      rthsghsh  \n"
     ]
    },
    {
     "ename": "TypeError",
     "evalue": "'NoneType' object is not iterable",
     "output_type": "error",
     "traceback": [
      "\u001b[1;31m---------------------------------------------------------------------------\u001b[0m",
      "\u001b[1;31mTypeError\u001b[0m                                 Traceback (most recent call last)",
      "\u001b[1;32m~\\AppData\\Local\\Temp\\ipykernel_19336\\883938074.py\u001b[0m in \u001b[0;36m<module>\u001b[1;34m\u001b[0m\n\u001b[0;32m     42\u001b[0m \u001b[1;31m#       sg.user_settings_set_entry('filename', values['-IN-'])\u001b[0m\u001b[1;33m\u001b[0m\u001b[1;33m\u001b[0m\u001b[1;33m\u001b[0m\u001b[0m\n\u001b[0;32m     43\u001b[0m \u001b[1;33m\u001b[0m\u001b[0m\n\u001b[1;32m---> 44\u001b[1;33m \u001b[0mclear_input\u001b[0m\u001b[1;33m(\u001b[0m\u001b[1;33m)\u001b[0m\u001b[1;33m\u001b[0m\u001b[1;33m\u001b[0m\u001b[0m\n\u001b[0m\u001b[0;32m     45\u001b[0m \u001b[0mwindow\u001b[0m\u001b[1;33m.\u001b[0m\u001b[0mclose\u001b[0m\u001b[1;33m(\u001b[0m\u001b[1;33m)\u001b[0m\u001b[1;33m\u001b[0m\u001b[1;33m\u001b[0m\u001b[0m\n\u001b[0;32m     46\u001b[0m \u001b[0mexit\u001b[0m\u001b[1;33m(\u001b[0m\u001b[1;33m)\u001b[0m\u001b[1;33m\u001b[0m\u001b[1;33m\u001b[0m\u001b[0m\n",
      "\u001b[1;32m~\\AppData\\Local\\Temp\\ipykernel_19336\\353524583.py\u001b[0m in \u001b[0;36mclear_input\u001b[1;34m()\u001b[0m\n\u001b[0;32m      1\u001b[0m \u001b[1;32mdef\u001b[0m \u001b[0mclear_input\u001b[0m\u001b[1;33m(\u001b[0m\u001b[1;33m)\u001b[0m\u001b[1;33m:\u001b[0m\u001b[1;33m\u001b[0m\u001b[1;33m\u001b[0m\u001b[0m\n\u001b[1;32m----> 2\u001b[1;33m     \u001b[1;32mfor\u001b[0m \u001b[0mkey\u001b[0m \u001b[1;32min\u001b[0m \u001b[0mvalues\u001b[0m\u001b[1;33m:\u001b[0m\u001b[1;33m\u001b[0m\u001b[1;33m\u001b[0m\u001b[0m\n\u001b[0m\u001b[0;32m      3\u001b[0m         \u001b[0mwindow\u001b[0m\u001b[1;33m[\u001b[0m\u001b[0mkey\u001b[0m\u001b[1;33m]\u001b[0m\u001b[1;33m(\u001b[0m\u001b[1;34m''\u001b[0m\u001b[1;33m)\u001b[0m\u001b[1;33m\u001b[0m\u001b[1;33m\u001b[0m\u001b[0m\n\u001b[0;32m      4\u001b[0m     \u001b[1;32mreturn\u001b[0m \u001b[1;32mNone\u001b[0m\u001b[1;33m\u001b[0m\u001b[1;33m\u001b[0m\u001b[0m\n",
      "\u001b[1;31mTypeError\u001b[0m: 'NoneType' object is not iterable"
     ]
    }
   ],
   "source": [
    "\n",
    "#sg.user_settings_filename(path='EXCEL_FILE')  # Set the location for the settings file\n",
    "  \n",
    "while True:\n",
    "    event, values = window.read()\n",
    "    if event in (sg.WINDOW_CLOSED, 'Exit'):\n",
    "        break\n",
    "    if event == 'Clear':\n",
    "        clear_input()\n",
    "    if event == \"OK\":\n",
    "        filename = values['-IN-']\n",
    "    elif event == 'Submit':\n",
    "       \n",
    "        radio_value = window['Radio1 0'].TKIntVar.get()\n",
    "        text = lst[radio_value % 1000] if radio_value else None\n",
    "        \n",
    "        radio_value2 = window['Radio2 0'].TKIntVar.get()\n",
    "        text2 = lst2[radio_value2 % 1000] if radio_value2 else None\n",
    "        \n",
    "        radio_value3 = window['Radio3 0'].TKIntVar.get()\n",
    "        text3 = lst3[radio_value3 % 1000] if radio_value3 else None       \n",
    "        \n",
    "        radio_value4 = window['Radio4 0'].TKIntVar.get()\n",
    "        text4 = lst4[radio_value4 % 1000] if radio_value4 else None\n",
    "        \n",
    "        radio_value5 = window['Radio5 0'].TKIntVar.get()\n",
    "        text5 = lst5[radio_value5 % 1000] if radio_value5 else None\n",
    "        \n",
    "        radio_value6 = window['Radio6 0'].TKIntVar.get()\n",
    "        text6 = lst6[radio_value6 % 1000] if radio_value6 else None\n",
    "        \n",
    "        record = [values['SF_Number'], text, values['Category'], text2, text3, text4, text5, text6, values['Other Details']]\n",
    "        print(record)\n",
    "        df_record = pd.DataFrame([record], columns=cols)\n",
    "        print(df_record)\n",
    "        df = df.append(df_record, ignore_index=True, sort=False)\n",
    "        print(df)\n",
    "        with pd.ExcelWriter(EXCELFILE, engine=\"openpyxl\", mode=\"w\") as writer:\n",
    "            df.to_excel(writer, index=False) \n",
    "        #df.to_excel(EXCEL_FILE, index=False)\n",
    "#        df.save('data_entry.xlsx')\n",
    "        sg.popup('Data saved!')\n",
    "#       sg.user_settings_set_entry('filename', values['-IN-'])\n",
    "\n",
    "clear_input()\n",
    "window.close()\n",
    "exit()"
   ]
  },
  {
   "cell_type": "code",
   "execution_count": null,
   "metadata": {},
   "outputs": [],
   "source": []
  },
  {
   "cell_type": "code",
   "execution_count": null,
   "metadata": {},
   "outputs": [],
   "source": []
  }
 ],
 "metadata": {
  "kernelspec": {
   "display_name": "Python 3 (ipykernel)",
   "language": "python",
   "name": "python3"
  },
  "language_info": {
   "codemirror_mode": {
    "name": "ipython",
    "version": 3
   },
   "file_extension": ".py",
   "mimetype": "text/x-python",
   "name": "python",
   "nbconvert_exporter": "python",
   "pygments_lexer": "ipython3",
   "version": "3.7.4"
  }
 },
 "nbformat": 4,
 "nbformat_minor": 4
}
