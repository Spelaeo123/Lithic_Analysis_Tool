{
 "cells": [
  {
   "cell_type": "markdown",
   "metadata": {
    "tags": []
   },
   "source": [
    "# Jacobi Lithic Analysis Data Entry Tool"
   ]
  },
  {
   "cell_type": "markdown",
   "metadata": {},
   "source": [
    "## Import libraries and modules"
   ]
  },
  {
   "cell_type": "code",
   "execution_count": 6,
   "metadata": {},
   "outputs": [],
   "source": [
    "import os\n",
    "import sys\n",
    "import PySimpleGUI as sg\n",
    "import pandas as pd\n",
    "import textwrap as wrap\n",
    "import openpyxl\n",
    "from openpyxl import load_workbook"
   ]
  },
  {
   "cell_type": "markdown",
   "metadata": {},
   "source": [
    "## Import input/output file"
   ]
  },
  {
   "cell_type": "code",
   "execution_count": null,
   "metadata": {},
   "outputs": [],
   "source": []
  },
  {
   "cell_type": "markdown",
   "metadata": {},
   "source": [
    "## Columns in excel file"
   ]
  },
  {
   "cell_type": "code",
   "execution_count": 7,
   "metadata": {},
   "outputs": [],
   "source": [
    "cols = ['SF Number', 'Site', 'Category', 'Post-deposition damage', 'Cortication type', 'Butt type', 'Cortex type', 'Cortex thickness', 'Other details']"
   ]
  },
  {
   "cell_type": "markdown",
   "metadata": {},
   "source": [
    "## Attribute Lists"
   ]
  },
  {
   "cell_type": "code",
   "execution_count": 10,
   "metadata": {},
   "outputs": [],
   "source": [
    "lst = ('Site 1','Site 2','Site 3','Site 4','Site 5','Site 6','Site 7','Other')\n",
    "CatLst = ('1. Flake', '2. Blade', '3. Bladelet','4. Blake-like flake (DO NOT USE)','5. Irregular Waste','6. Chip','7. Microburin','8. Burin spall','9. Rejuvenation flake','10. Core tablet','11. Rejuvenation flake other','12. Levallois flake','13. Janus flake (= thinning)','14. Axe working flake','15. Flake from ground implement','16. Single platform blade core','17. Opposed platform blade core','18. Other Blade core','19. Tested nodule/ bashed lump','20. Single platform flake core','21. Multiplatform flake core','22. Keeled non-discoidal flake core','23. Levallois/ other discoidal flake core','24. Unclassifiable/ fragmentary core','25. Microlith','26. Petit tranchet arrowhead','27. Leaf arrowhead','28. Chisel arrowhead','29. Oblique arrowhead','30. Barbed and tanged arrowhead','31. Triangular arrowhead','32. Hollow-based arrowhead','33. Laurel leaf','34. Unfinished arrowhead/blank','35. Fragmentary/unclass/other arrowhead','36. End scraper','37. Side scraper','38. End and side scraper','39. Disc scraper','40. Thumbnail scraper','41. Scraper on a non-flake blank','42. Other scraper','43. Awl','44. Piercer','45. Spurred piece','46. Other borer','47. Serrated flake','48. Saw','49. Denticulate','50. Notch','51. Backed knife','52. Scale flaked knife','53. Plano-convex knife','54. Other knife','55. Flake retouched','56. Single-piece sickle','57. Fabricator','58. Axe','59. Other heavy implement','60. Misc retouch','61. Other retouch','62. Burnt unworked','63. Hammerstone','64. Natural','65. Core on a flake','66. Gun flint','67. Axe sharpening flake','68. Sieved chips 10-4mm','69. Sieved chips 4-2mm','70. Sieved chips','71. Bruised blade/flake','72. Burin','73. Blade crested','74. Blade retouched','75. End truncation straight','76. End truncation oblique','77. Backed bladelet','78. Bipolar core')\n",
    "lst2 = ('1. Fresh','2. Slight post depositional damage', '3. Moderate post depositional damage','4. Heavy post depositional damage','5. Plough damaged','6. Rolled','7. Glossed','8. Modern damage')\n",
    "lst3 = ('1. No cortication','2. Light cortication','3. Moderate cortication','4. Heavy cortication','5. Very heavy cortication','6. Iron stained')\n",
    "lst4 = ('1. Cortical (cortex)','2. Plain (unaltered inner flint)','3. Dihedral (2 scars)','4. Faceted (more than 2 scars)','5. Linear (very narrow and usually quite long)','6. Shattered','7. Thermal (old recorticated or patinated surface)','8. Punctiform','9. Modified (retouched or otherwise altered)','10. Indeterminate (if you can’t decide or it doesn’t fit any of the above)')\n",
    "lst5 = ('1. Chalk – thick, creamy white, chalky', '2. Weathered Chalk – like above but clearly worn and probably thin or moderate in thickness','3. Weathered – Similar to WC above, will be rough to the touch but clearly ground down.','4. Rolled – typical beach pebble/ river gravel flint, smooth','5. Thermal – re-corticated old surface, often will be in','6. Indeterminate','7. Banded -eg. Bullhead flint')\n",
    "lst6 = ('1. Thin – up to 2mm thick (judge don’t measure)', '2. Moderate 2-4mm thickness', '3. Thick 4-10mm', '4. Very thick, greater than 10mm')\n"
   ]
  },
  {
   "cell_type": "markdown",
   "metadata": {},
   "source": [
    "## Column sizes"
   ]
  },
  {
   "cell_type": "code",
   "execution_count": null,
   "metadata": {},
   "outputs": [],
   "source": [
    "colsize = [20,60]"
   ]
  },
  {
   "cell_type": "markdown",
   "metadata": {},
   "source": [
    "## Font sizes"
   ]
  },
  {
   "cell_type": "code",
   "execution_count": null,
   "metadata": {},
   "outputs": [],
   "source": [
    "hfont = (\"Calibri\", 12)\n",
    "font = (\"Calibri\", 10)"
   ]
  },
  {
   "cell_type": "markdown",
   "metadata": {},
   "source": [
    "## Columns layout"
   ]
  },
  {
   "cell_type": "code",
   "execution_count": null,
   "metadata": {},
   "outputs": [],
   "source": [
    "#Select Post-deposition damage\n",
    "col1 = [[sg.Text('Post-deposition damage:', font=hfont)],\n",
    "        [sg.Radio(text, \"Radio2\", enable_events=True, key=f\"Radio2 {i}\", size=15, font=font, pad=0) \n",
    "         for i, text in enumerate(lst2)]\n",
    "       ]\n",
    "\n",
    "#Select Cortication\n",
    "col2 = [[sg.Text('Cortication type:', font=hfont)],\n",
    "        [sg.Radio(text, \"Radio3\", enable_events=True, key=f\"Radio3 {i}\", size=15, font=font, pad=0) \n",
    "         for i, text in enumerate(lst3)]\n",
    "       ]\n",
    "\n",
    "#Select Butt type\n",
    "col3 = [[sg.Text('Butt type:', font=hfont)],\n",
    "        [sg.Radio(text, \"Radio4\", enable_events=True, key=f\"Radio4 {i}\", size=15, font=font, pad=0) \n",
    "         for i, text in enumerate(lst4)]\n",
    "       ]\n",
    "\n",
    "#Select Cortex type \n",
    "col4 = [[sg.Text('Cortex type:', font=hfont)], \n",
    "        [sg.Radio(text, \"Radio5\", enable_events=True, key=f\"Radio5 {i}\", size=15, font=font, pad=0) \n",
    "         for i, text in enumerate(lst5)]\n",
    "       ]\n",
    "\n",
    "#Select Cortex thickness\n",
    "col5 = [[sg.Text('Cortex thickness:', font=hfont)], \n",
    "        [sg.Radio(text, \"Radio6\", enable_events=True, key=f\"Radio6 {i}\", size=15, font=font, pad=0) \n",
    "         for i, text in enumerate(lst6)]\n",
    "       ]"
   ]
  },
  {
   "cell_type": "markdown",
   "metadata": {},
   "source": [
    "## Layout and window"
   ]
  },
  {
   "cell_type": "code",
   "execution_count": null,
   "metadata": {},
   "outputs": [],
   "source": [
    "layout = [[\n",
    "    #Browse to file  \n",
    "    [sg.Text('Select output file:', font=hfont), sg.Input(), sg.FilesBrowse(file_types=((\"XLSX Files\", \"*.xlsx\"), (\"CSV Files\", \"*.csv*\")), key='-IN-')],# sg.B('OK')],\n",
    "    #Title\n",
    "    [sg.Text('Please fill the following fields:', font=hfont)],\n",
    "    #Type SF Number\n",
    "    [sg.Text('SF Number', size=(15,1), font=hfont), sg.InputText(key='SF_Number')],\n",
    "    #Select Site\n",
    "    [sg.Text('Site:', font=hfont)],\n",
    "    [sg.Radio(text, \"Radio\", enable_events=True, key=f\"Radio1 {i}\", font=font) \n",
    "        for i, text in enumerate(lst)],\n",
    "    #Select Category\n",
    "    [sg.Text('Category', size=(15,1), font=hfont), sg.Combo(['1. Flake', '2. Blade', '3. Bladelet','4. Blake-like flake (DO NOT USE)','5. Irregular Waste','6. Chip','7. Microburin','8. Burin spall','9. Rejuvenation flake','10. Core tablet','11. Rejuvenation flake other','12. Levallois flake','13. Janus flake (= thinning)','14. Axe working flake','15. Flake from ground implement','16. Single platform blade core','17. Opposed platform blade core','18. Other Blade core','19. Tested nodule/ bashed lump','20. Single platform flake core','21. Multiplatform flake core','22. Keeled non-discoidal flake core','23. Levallois/ other discoidal flake core','24. Unclassifiable/ fragmentary core','25. Microlith','26. Petit tranchet arrowhead','27. Leaf arrowhead','28. Chisel arrowhead','29. Oblique arrowhead','30. Barbed and tanged arrowhead','31. Triangular arrowhead','32. Hollow-based arrowhead','33. Laurel leaf','34. Unfinished arrowhead/blank','35. Fragmentary/unclass/other arrowhead','36. End scraper','37. Side scraper','38. End and side scraper','39. Disc scraper','40. Thumbnail scraper','41. Scraper on a non-flake blank','42. Other scraper','43. Awl','44. Piercer','45. Spurred piece','46. Other borer','47. Serrated flake','48. Saw','49. Denticulate','50. Notch','51. Backed knife','52. Scale flaked knife','53. Plano-convex knife','54. Other knife','55. Flake retouched','56. Single-piece sickle','57. Fabricator','58. Axe','59. Other heavy implement','60. Misc retouch','61. Other retouch','62. Burnt unworked','63. Hammerstone','64. Natural','65. Core on a flake','66. Gun flint','67. Axe sharpening flake','68. Sieved chips 10-4mm','69. Sieved chips 4-2mm','70. Sieved chips','71. Bruised blade/flake','72. Burin','73. Blade crested','74. Blade retouched','75. End truncation straight','76. End truncation oblique','77. Backed bladelet','78. Bipolar core'], key='Category')],   \n",
    "    [sg.Column(col1)],\n",
    "    [sg.Column(col2)],\n",
    "    [sg.Column(col3)],\n",
    "    [sg.Column(col4)],\n",
    "    [sg.Column(col5)], \n",
    "    [sg.Text('Other comments:', font=hfont),sg.Input('', key='Other Details', do_not_clear=False)],\n",
    "    [sg.Push()], \n",
    "    [sg.Button(\"Submit\"), sg.Button(\"Clear\"), sg.Button('Exit')],\n",
    "]]\n",
    "\n",
    "window = sg.Window(\"Jacobi: Lithic Analyis Data Entry Tool v0.5\", layout, resizable=True, element_justification='l', finalize=True)\n",
    "\n",
    "\n",
    "print(layout)"
   ]
  },
  {
   "cell_type": "markdown",
   "metadata": {},
   "source": [
    "## clear input function"
   ]
  },
  {
   "cell_type": "code",
   "execution_count": null,
   "metadata": {},
   "outputs": [],
   "source": [
    "def clear_input():\n",
    "    keys_to_clear = [\"SF_Number\", \"Category\", \"Other Details\"]\n",
    "    for key in keys_to_clear:\n",
    "        window[key]('')\n",
    "    window[\"Radio1 0\"].reset_group()\n",
    "    window[\"Radio2 0\"].reset_group()\n",
    "    window[\"Radio3 0\"].reset_group()\n",
    "    window[\"Radio4 0\"].reset_group()\n",
    "    window[\"Radio5 0\"].reset_group()\n",
    "    window[\"Radio6 0\"].reset_group()\n",
    "    return None"
   ]
  },
  {
   "cell_type": "markdown",
   "metadata": {},
   "source": [
    "## While statement"
   ]
  },
  {
   "cell_type": "code",
   "execution_count": null,
   "metadata": {},
   "outputs": [],
   "source": [
    "while True:\n",
    "    event, values = window.read()\n",
    "    if event in (sg.WINDOW_CLOSED, 'Exit'):\n",
    "        break\n",
    "    if event == 'Clear':\n",
    "        clear_input()\n",
    "#    if event == \"OK\":\n",
    "#        filename = values['-IN-']\n",
    "    elif event == 'Submit':\n",
    "        filename = values['-IN-']       \n",
    "        radio_value = window['Radio1 0'].TKIntVar.get()\n",
    "        text = lst[radio_value % 1000] if radio_value else None\n",
    "        \n",
    "        radio_value2 = window['Radio2 0'].TKIntVar.get()\n",
    "        text2 = lst2[radio_value2 % 1000] if radio_value2 else None\n",
    "        \n",
    "        radio_value3 = window['Radio3 0'].TKIntVar.get()\n",
    "        text3 = lst3[radio_value3 % 1000] if radio_value3 else None       \n",
    "        \n",
    "        radio_value4 = window['Radio4 0'].TKIntVar.get()\n",
    "        text4 = lst4[radio_value4 % 1000] if radio_value4 else None\n",
    "        \n",
    "        radio_value5 = window['Radio5 0'].TKIntVar.get()\n",
    "        text5 = lst5[radio_value5 % 1000] if radio_value5 else None\n",
    "        \n",
    "        radio_value6 = window['Radio6 0'].TKIntVar.get()\n",
    "        text6 = lst6[radio_value6 % 1000] if radio_value6 else None\n",
    "        \n",
    "        record = [values['SF_Number'], text, values['Category'], text2, text3, text4, text5, text6, values['Other Details']]\n",
    "        print(record)\n",
    "        df_record = pd.DataFrame([record], columns=cols)\n",
    "        print(df_record)\n",
    "        df = pd.read_excel(filename, engine=\"openpyxl\")\n",
    "        df = df.append(df_record, ignore_index=True, sort=False)\n",
    "        print(df)\n",
    "        with pd.ExcelWriter(filename, engine=\"openpyxl\", mode=\"w\") as writer:\n",
    "            df.to_excel(writer, index=False)\n",
    "            writer.save()\n",
    "        #writer.close()\n",
    "        sg.popup('Data saved!')\n",
    "        clear_input()\n",
    "\n",
    "window.close()\n",
    "sys.exit()"
   ]
  },
  {
   "cell_type": "code",
   "execution_count": null,
   "metadata": {},
   "outputs": [],
   "source": []
  },
  {
   "cell_type": "code",
   "execution_count": null,
   "metadata": {},
   "outputs": [],
   "source": []
  }
 ],
 "metadata": {
  "kernelspec": {
   "display_name": "Python 3 (ipykernel)",
   "language": "python",
   "name": "python3"
  },
  "language_info": {
   "codemirror_mode": {
    "name": "ipython",
    "version": 3
   },
   "file_extension": ".py",
   "mimetype": "text/x-python",
   "name": "python",
   "nbconvert_exporter": "python",
   "pygments_lexer": "ipython3",
   "version": "3.7.4"
  }
 },
 "nbformat": 4,
 "nbformat_minor": 4
}
