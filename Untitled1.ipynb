{
 "cells": [
  {
   "cell_type": "code",
   "execution_count": 1,
   "id": "e76aaeff-3ced-468d-8c75-9c48b235cd28",
   "metadata": {},
   "outputs": [
    {
     "name": "stdout",
     "output_type": "stream",
     "text": [
      "Update1 {}\n",
      "Update2 {}\n",
      "Update1 {}\n",
      "Update2 {}\n",
      "Update1 {}\n",
      "Update2 {}\n",
      "Update1 {}\n",
      "Update2 {}\n"
     ]
    }
   ],
   "source": [
    "import textwrap\n",
    "import PySimpleGUI as sg\n",
    "\n",
    "sg.theme(\"DarkBlue3\")\n",
    "sg.set_options(font=(\"Courier New\", 16))\n",
    "\n",
    "text = (\n",
    "    \"The mission of the Python Software Foundation is to promote, protect, \"\n",
    "    \"and advance the Python programming language, and to support and facili\"\n",
    "    \"tate the growth of a diverse and international community of Python pro\"\n",
    "    \"grammers.\")\n",
    "\n",
    "new_text = textwrap.wrap(text, 40)\n",
    "\n",
    "layout = [\n",
    "    [sg.Text(\"Line\", size=(40, None), key=\"OUT\")],\n",
    "    [sg.Button(\"Update1\"), sg.Button(\"Update2\")],\n",
    "]\n",
    "\n",
    "window = sg.Window('Title', layout, finalize=True)\n",
    "\n",
    "while True:\n",
    "    event, values = window.read()\n",
    "    if event in (sg.WINDOW_CLOSED, \"Exit\"):\n",
    "        break\n",
    "    elif event == 'Update1':\n",
    "        window['OUT'].update(new_text)\n",
    "    elif event == 'Update2':\n",
    "        window['OUT'].update(\"Line\")\n",
    "    print(event, values)\n",
    "\n",
    "window.close()"
   ]
  },
  {
   "cell_type": "code",
   "execution_count": null,
   "id": "23198f4b-a2f4-48ae-983a-ddacb3b3db63",
   "metadata": {},
   "outputs": [],
   "source": []
  }
 ],
 "metadata": {
  "kernelspec": {
   "display_name": "Python 3 (ipykernel)",
   "language": "python",
   "name": "python3"
  },
  "language_info": {
   "codemirror_mode": {
    "name": "ipython",
    "version": 3
   },
   "file_extension": ".py",
   "mimetype": "text/x-python",
   "name": "python",
   "nbconvert_exporter": "python",
   "pygments_lexer": "ipython3",
   "version": "3.7.4"
  }
 },
 "nbformat": 4,
 "nbformat_minor": 5
}
