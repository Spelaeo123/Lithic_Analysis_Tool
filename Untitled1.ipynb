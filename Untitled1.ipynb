{
 "cells": [
  {
   "cell_type": "code",
   "execution_count": 1,
   "id": "e76aaeff-3ced-468d-8c75-9c48b235cd28",
   "metadata": {},
   "outputs": [
    {
     "name": "stdout",
     "output_type": "stream",
     "text": [
      "_FILEBROWSE_ {'_FILEBROWSE_': 'C:/Users/tom/Documents/GitHub/Lithic_Analysis_Tool/New folder/t.xlsx', 'Browse': 'C:/Users/tom/Documents/GitHub/Lithic_Analysis_Tool/New folder/t.xlsx'}\n",
      "OK {'_FILEBROWSE_': 'C:/Users/tom/Documents/GitHub/Lithic_Analysis_Tool/New folder/t.xlsx', 'Browse': 'C:/Users/tom/Documents/GitHub/Lithic_Analysis_Tool/New folder/t.xlsx'}\n"
     ]
    }
   ],
   "source": [
    "import PySimpleGUI as sg\n",
    "\n",
    "layout =    [[sg.Input(key='_FILEBROWSE_', enable_events=True, visible=False)],\n",
    "            [sg.FileBrowse(target='_FILEBROWSE_')],\n",
    "            [sg.OK()],]\n",
    "\n",
    "window = sg.Window('My new window').Layout(layout)\n",
    "\n",
    "while True:             # Event Loop\n",
    "    event, values = window.Read()\n",
    "    if event is None:\n",
    "        break\n",
    "    print(event, values)"
   ]
  },
  {
   "cell_type": "code",
   "execution_count": null,
   "id": "23198f4b-a2f4-48ae-983a-ddacb3b3db63",
   "metadata": {},
   "outputs": [],
   "source": []
  }
 ],
 "metadata": {
  "kernelspec": {
   "display_name": "Python 3 (ipykernel)",
   "language": "python",
   "name": "python3"
  },
  "language_info": {
   "codemirror_mode": {
    "name": "ipython",
    "version": 3
   },
   "file_extension": ".py",
   "mimetype": "text/x-python",
   "name": "python",
   "nbconvert_exporter": "python",
   "pygments_lexer": "ipython3",
   "version": "3.7.4"
  }
 },
 "nbformat": 4,
 "nbformat_minor": 5
}
